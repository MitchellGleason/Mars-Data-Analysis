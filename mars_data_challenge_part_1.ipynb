{
 "cells": [
  {
   "cell_type": "code",
   "execution_count": 2,
   "metadata": {},
   "outputs": [],
   "source": [
    "#Import dependencies\n",
    "from splinter import Browser\n",
    "from bs4 import BeautifulSoup as soup\n",
    "from webdriver_manager.chrome import ChromeDriverManager"
   ]
  },
  {
   "cell_type": "code",
   "execution_count": 3,
   "metadata": {},
   "outputs": [],
   "source": [
    "#Set the executable path and initialize the chrome browser in splinter\n",
    "executable_path = {'executable_path': ChromeDriverManager().install()}\n",
    "\n",
    "browser = Browser('chrome', **executable_path, headless=False)"
   ]
  },
  {
   "cell_type": "code",
   "execution_count": 4,
   "metadata": {},
   "outputs": [
    {
     "data": {
      "text/plain": [
       "True"
      ]
     },
     "execution_count": 4,
     "metadata": {},
     "output_type": "execute_result"
    }
   ],
   "source": [
    "#Visit the mars nasa news site\n",
    "url = 'https://redplanetscience.com'\n",
    "\n",
    "browser.visit(url)\n",
    "\n",
    "#Optional delay for loading the page\n",
    "browser.is_element_present_by_css('div.list_text', wait_time=1)"
   ]
  },
  {
   "cell_type": "code",
   "execution_count": 5,
   "metadata": {},
   "outputs": [],
   "source": [
    "#Set up the HTML parser\n",
    "html = browser.html\n",
    "\n",
    "news_soup = soup(html, 'html.parser')"
   ]
  },
  {
   "cell_type": "code",
   "execution_count": 21,
   "metadata": {},
   "outputs": [],
   "source": [
    "#Get each slide element\n",
    "slide_elements = news_soup.find_all('div', class_='list_text')"
   ]
  },
  {
   "cell_type": "code",
   "execution_count": 23,
   "metadata": {},
   "outputs": [],
   "source": [
    "#Iterate through each slide to get title and preview text\n",
    "titles = []\n",
    "previews = []\n",
    "\n",
    "for slide in slide_elements:\n",
    "    title = slide.find('div', class_='content_title').get_text()\n",
    "    preview = slide.find('div', class_='article_teaser_body').get_text()\n",
    "    titles.append(title)\n",
    "    previews.append(preview)"
   ]
  },
  {
   "cell_type": "code",
   "execution_count": 26,
   "metadata": {},
   "outputs": [
    {
     "data": {
      "text/plain": [
       "['Mars 2020 Stands on Its Own Six Wheels',\n",
       " \"NASA's Perseverance Mars Rover Gets Its Wheels and Air Brakes\",\n",
       " 'NASA Administrator Statement on Moon to Mars Initiative, FY 2021 Budget',\n",
       " 'MOXIE Could Help Future Rockets Launch Off Mars',\n",
       " \"Curiosity Mars Rover's Summer Road Trip Has Begun\",\n",
       " 'NASA to Hold Mars 2020 Perseverance Rover Launch Briefing',\n",
       " 'NASA Updates Mars 2020 Mission Environmental Review',\n",
       " \"5 Hidden Gems Are Riding Aboard NASA's Perseverance Rover\",\n",
       " 'Heat and Dust Help Launch Martian Water Into Space, Scientists Find',\n",
       " \"NASA's Mars Rover Drivers Need Your Help\",\n",
       " \"3 Things We've Learned From NASA's Mars InSight \",\n",
       " \"The Launch Is Approaching for NASA's Next Mars Rover, Perseverance\",\n",
       " \"How NASA's Perseverance Mars Team Adjusted to Work in the Time of Coronavirus \",\n",
       " \"NASA's Perseverance Rover Is Midway to Mars \",\n",
       " \"NASA's Perseverance Rover Mission Getting in Shape for Launch\"]"
      ]
     },
     "execution_count": 26,
     "metadata": {},
     "output_type": "execute_result"
    }
   ],
   "source": [
    "titles"
   ]
  },
  {
   "cell_type": "code",
   "execution_count": 24,
   "metadata": {},
   "outputs": [],
   "source": [
    "#Create a dictionary to hold the titles and previews\n",
    "title_and_preview = dict(zip(titles, previews))"
   ]
  },
  {
   "cell_type": "code",
   "execution_count": 25,
   "metadata": {},
   "outputs": [
    {
     "data": {
      "text/plain": [
       "{'Mars 2020 Stands on Its Own Six Wheels': \"In time-lapse video, taken at JPL, captures the first time NASA's Mars 2020 rover carries its full weight on its legs and wheels.\",\n",
       " \"NASA's Perseverance Mars Rover Gets Its Wheels and Air Brakes\": 'After the rover was shipped from JPL to Kennedy Space Center, the team is getting closer to finalizing the spacecraft for launch later this summer.',\n",
       " 'NASA Administrator Statement on Moon to Mars Initiative, FY 2021 Budget': \"Jim Bridenstine addresses NASA's ambitious plans for the coming years, including Mars Sample Return.\",\n",
       " 'MOXIE Could Help Future Rockets Launch Off Mars': \"NASA's Perseverance rover carries a device to convert Martian air into oxygen that, if produced on a larger scale, could be used not just for breathing, but also for fuel.\",\n",
       " \"Curiosity Mars Rover's Summer Road Trip Has Begun\": 'After more than a year in the \"clay-bearing unit,\" Curiosity is making a mile-long journey around some deep sand so that it can explore higher up Mount Sharp.',\n",
       " 'NASA to Hold Mars 2020 Perseverance Rover Launch Briefing': \"Learn more about the agency's next Red Planet mission during a live event on June 17.\",\n",
       " 'NASA Updates Mars 2020 Mission Environmental Review': 'NASA and the Department of Energy have completed a more detailed risk analysis for the Mars 2020 rover launch from Florida.',\n",
       " \"5 Hidden Gems Are Riding Aboard NASA's Perseverance Rover\": \"The symbols, mottos, and small objects added to the agency's newest Mars rover serve a variety of purposes, from functional to decorative.\",\n",
       " 'Heat and Dust Help Launch Martian Water Into Space, Scientists Find': 'Scientists using an instrument aboard NASA’s Mars Atmosphere and Volatile EvolutioN, or MAVEN, spacecraft have discovered that water vapor near the surface of the Red Planet is lofted higher into the atmosphere than anyone expected was possible. ',\n",
       " \"NASA's Mars Rover Drivers Need Your Help\": 'Using an online tool to label Martian terrain types, you can train an artificial intelligence algorithm that could improve the way engineers guide the Curiosity rover.',\n",
       " \"3 Things We've Learned From NASA's Mars InSight \": 'Scientists are finding new mysteries since the geophysics mission landed two years ago.',\n",
       " \"The Launch Is Approaching for NASA's Next Mars Rover, Perseverance\": \"The Red Planet's surface has been visited by eight NASA spacecraft. The ninth will be the first that includes a roundtrip ticket in its flight plan. \",\n",
       " \"How NASA's Perseverance Mars Team Adjusted to Work in the Time of Coronavirus \": 'Like much of the rest of the world, the Mars rover team is pushing forward with its mission-critical work while putting the health and safety of their colleagues and community first.',\n",
       " \"NASA's Perseverance Rover Is Midway to Mars \": \"Sometimes half measures can be a good thing – especially on a journey this long. The agency's latest rover only has about 146 million miles left to reach its destination.\",\n",
       " \"NASA's Perseverance Rover Mission Getting in Shape for Launch\": 'Stacking spacecraft components on top of each other is one of the final assembly steps before a mission launches to the Red Planet. '}"
      ]
     },
     "execution_count": 25,
     "metadata": {},
     "output_type": "execute_result"
    }
   ],
   "source": [
    "title_and_preview"
   ]
  },
  {
   "cell_type": "code",
   "execution_count": null,
   "metadata": {},
   "outputs": [],
   "source": []
  }
 ],
 "metadata": {
  "kernelspec": {
   "display_name": "Python 3.9.12 ('base')",
   "language": "python",
   "name": "python3"
  },
  "language_info": {
   "codemirror_mode": {
    "name": "ipython",
    "version": 3
   },
   "file_extension": ".py",
   "mimetype": "text/x-python",
   "name": "python",
   "nbconvert_exporter": "python",
   "pygments_lexer": "ipython3",
   "version": "3.9.13"
  },
  "orig_nbformat": 4,
  "vscode": {
   "interpreter": {
    "hash": "335ee12212264728feb72f243af72c5a8ea26c832f07e1f651ce9e17c7ceae23"
   }
  }
 },
 "nbformat": 4,
 "nbformat_minor": 2
}
